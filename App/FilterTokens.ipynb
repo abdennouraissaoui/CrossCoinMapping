{
 "cells": [
  {
   "cell_type": "code",
   "execution_count": 1,
   "id": "ac3029aa-5fd9-43ff-b672-f2fd0e90d39e",
   "metadata": {},
   "outputs": [
    {
     "name": "stdout",
     "output_type": "stream",
     "text": [
      "Creating Directories : ProcessedData\n",
      "Creating Directories : VisualizationData\n",
      "Creating Directories : TestingGarbage\n",
      "Creating Directories : SimilarityResults\n"
     ]
    }
   ],
   "source": [
    "import pandas as pd\n",
    "import numpy as np\n",
    "import os \n",
    "import csv\n",
    "import gc\n",
    "from sklearn.metrics import mean_absolute_error, mean_squared_error\n",
    "from dtw import accelerated_dtw\n",
    "from tqdm import tqdm\n",
    "import matplotlib.pyplot as plt\n",
    "import sys \n",
    "import glob\n",
    "import matplotlib.dates as mdates\n",
    "from sklearn.feature_extraction.text import TfidfVectorizer\n",
    "from sklearn.metrics.pairwise import cosine_similarity\n",
    "\n",
    "\n",
    "directory_names = {\n",
    "    \"preprocessed_data_dir_name\":\"ProcessedData\",\n",
    "    \"visualization_data_dir_name\":\"VisualizationData\",\n",
    "    \"testing_garbage_dir_name\" :\"TestingGarbage\",\n",
    "    \"ResultsDirectory\":\"SimilarityResults\",\n",
    "}\n",
    "for key , value in directory_names.items():\n",
    "    print(f\"Creating Directories : {value}\")\n",
    "    os.makedirs(directory_names[key], exist_ok=True)\n",
    "    \n",
    "files_path = {\n",
    "    'raw_price_data' : os.path.join(\"Datasets\",\"raw_datasets\",\"prices.csv\"),\n",
    "    'raw_token_names' : os.path.join(\"Datasets\",\"raw_datasets\",\"token_names.csv\"),\n",
    "    \"token_names\":os.path.join(\"TestingGarbage\",\"token_names.csv\"),\n",
    "    \"similarity_results_file_path\":os.path.join(\"SimilarityResults\",\"similarity_results_version_0.1.csv\"),\n",
    "    \n",
    "}"
   ]
  },
  {
   "cell_type": "code",
   "execution_count": 5,
   "id": "dd7c9567-f74e-4c12-ae20-ce2c87ad4f18",
   "metadata": {},
   "outputs": [
    {
     "data": {
      "text/plain": [
       "'SimilarityResults/similarity_results_version_0.1.csv'"
      ]
     },
     "execution_count": 5,
     "metadata": {},
     "output_type": "execute_result"
    }
   ],
   "source": [
    "files_path['similarity_results_file_path']"
   ]
  },
  {
   "cell_type": "code",
   "execution_count": 2,
   "id": "98679374-0f8a-48bc-8d22-7ccd59e3e391",
   "metadata": {},
   "outputs": [],
   "source": [
    "import pandas as pd\n",
    "similarity_resutlts = pd.read_csv(files_path['similarity_results_file_path'], on_bad_lines='skip')\n",
    "similarity_resutlts_filtered = similarity_resutlts[similarity_resutlts['SMAPE']<10]\n",
    "\n",
    "# similarity_resutlts_filtered['Cosine_Similarity'] = similarity_resutlts_filtered.apply(lambda row: calculate_cosine_similarity_char(row['Token1'], row['Token2']), axis=1)\n"
   ]
  },
  {
   "cell_type": "code",
   "execution_count": 3,
   "id": "e7c60f86ca3d3164",
   "metadata": {},
   "outputs": [
    {
     "name": "stdout",
     "output_type": "stream",
     "text": [
      "Copied VisualizationData/8159_1/8159_1_vs_1158_1_dtw.png to SimilarTokenVisulizaton/version_04/8159_1_vs_1158_1_dtw.png\n",
      "Copied VisualizationData/8159_1/8159_1_vs_10367_1_dtw.png to SimilarTokenVisulizaton/version_04/8159_1_vs_10367_1_dtw.png\n",
      "Copied VisualizationData/1146_1/1146_1_vs_15467_2_dtw.png to SimilarTokenVisulizaton/version_04/1146_1_vs_15467_2_dtw.png\n",
      "Copied VisualizationData/16668_2/16668_2_vs_13049_1_dtw.png to SimilarTokenVisulizaton/version_04/16668_2_vs_13049_1_dtw.png\n",
      "Copied VisualizationData/168956_1/168956_1_vs_162796_2_dtw.png to SimilarTokenVisulizaton/version_04/168956_1_vs_162796_2_dtw.png\n"
     ]
    }
   ],
   "source": [
    "import shutil\n",
    "import os\n",
    "\n",
    "destination_folder = \"SimilarTokenVisulizaton/version_04\"  # The folder where you want to copy the files\n",
    "\n",
    "# Ensure the destination folder exists\n",
    "os.makedirs(destination_folder, exist_ok=True)\n",
    "\n",
    "for index, row in similarity_resutlts_filtered.iterrows():\n",
    "    # Original file path\n",
    "    filename = f\"{row['Token1']}_vs_{row['Token2']}_dtw.png\"\n",
    "    source_filepath = f\"VisualizationData/{row['Token1']}/{filename}\"\n",
    "    \n",
    "    # Destination file path\n",
    "    destination_filepath = os.path.join(destination_folder, filename)\n",
    "    \n",
    "    try:\n",
    "        # Copy the file from the source to the destination\n",
    "        shutil.copy(source_filepath, destination_filepath)\n",
    "        print(f\"Copied {source_filepath} to {destination_filepath}\")\n",
    "        \n",
    "    except FileNotFoundError as e:\n",
    "        print(f\"File not found: {source_filepath}, skipping...\")\n",
    "        \n",
    "    # break  # Remove this if you want to process all rows\n"
   ]
  },
  {
   "cell_type": "code",
   "execution_count": 5,
   "id": "3d49588c-713b-4175-898f-b7ddddc6bbc6",
   "metadata": {},
   "outputs": [
    {
     "ename": "NameError",
     "evalue": "name 'similarity_resutlts' is not defined",
     "output_type": "error",
     "traceback": [
      "\u001b[0;31m---------------------------------------------------------------------------\u001b[0m",
      "\u001b[0;31mNameError\u001b[0m                                 Traceback (most recent call last)",
      "Cell \u001b[0;32mIn[5], line 1\u001b[0m\n\u001b[0;32m----> 1\u001b[0m \u001b[43msimilarity_resutlts\u001b[49m\n",
      "\u001b[0;31mNameError\u001b[0m: name 'similarity_resutlts' is not defined"
     ]
    }
   ],
   "source": [
    "similarity_resutlts"
   ]
  },
  {
   "cell_type": "code",
   "execution_count": null,
   "id": "cb0301bd-f189-4cab-a8b8-6519d095fec6",
   "metadata": {},
   "outputs": [],
   "source": []
  }
 ],
 "metadata": {
  "kernelspec": {
   "display_name": "Python 3 (ipykernel)",
   "language": "python",
   "name": "python3"
  },
  "language_info": {
   "codemirror_mode": {
    "name": "ipython",
    "version": 3
   },
   "file_extension": ".py",
   "mimetype": "text/x-python",
   "name": "python",
   "nbconvert_exporter": "python",
   "pygments_lexer": "ipython3",
   "version": "3.10.12"
  }
 },
 "nbformat": 4,
 "nbformat_minor": 5
}
